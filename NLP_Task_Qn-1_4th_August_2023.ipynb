{
 "cells": [
  {
   "cell_type": "code",
   "execution_count": 2,
   "id": "efa52ff4",
   "metadata": {},
   "outputs": [
    {
     "name": "stdout",
     "output_type": "stream",
     "text": [
      "Collecting nltk\n",
      "  Downloading nltk-3.8.1-py3-none-any.whl (1.5 MB)\n",
      "     ---------------------------------------- 1.5/1.5 MB 510.9 kB/s eta 0:00:00\n",
      "Collecting click\n",
      "  Downloading click-8.1.6-py3-none-any.whl (97 kB)\n",
      "     ---------------------------------------- 97.9/97.9 kB 1.9 MB/s eta 0:00:00\n",
      "Requirement already satisfied: joblib in c:\\users\\navs9\\appdata\\local\\programs\\python\\python311\\lib\\site-packages (from nltk) (1.3.1)\n",
      "Collecting regex>=2021.8.3\n",
      "  Downloading regex-2023.6.3-cp311-cp311-win_amd64.whl (268 kB)\n",
      "     -------------------------------------- 268.0/268.0 kB 1.2 MB/s eta 0:00:00\n",
      "Collecting tqdm\n",
      "  Downloading tqdm-4.65.1-py3-none-any.whl (93 kB)\n",
      "     ---------------------------------------- 93.2/93.2 kB 5.2 MB/s eta 0:00:00\n",
      "Requirement already satisfied: colorama in c:\\users\\navs9\\appdata\\local\\programs\\python\\python311\\lib\\site-packages (from click->nltk) (0.4.6)\n",
      "Installing collected packages: tqdm, regex, click, nltk\n",
      "Successfully installed click-8.1.6 nltk-3.8.1 regex-2023.6.3 tqdm-4.65.1\n",
      "Note: you may need to restart the kernel to use updated packages.\n"
     ]
    },
    {
     "name": "stderr",
     "output_type": "stream",
     "text": [
      "\n",
      "[notice] A new release of pip available: 22.3.1 -> 23.2.1\n",
      "[notice] To update, run: python.exe -m pip install --upgrade pip\n"
     ]
    }
   ],
   "source": [
    "pip install nltk"
   ]
  },
  {
   "cell_type": "code",
   "execution_count": 3,
   "id": "ab50f4d9",
   "metadata": {},
   "outputs": [
    {
     "name": "stderr",
     "output_type": "stream",
     "text": [
      "[nltk_data] Downloading package punkt to\n",
      "[nltk_data]     C:\\Users\\navs9\\AppData\\Roaming\\nltk_data...\n",
      "[nltk_data]   Unzipping tokenizers\\punkt.zip.\n",
      "[nltk_data] Downloading package stopwords to\n",
      "[nltk_data]     C:\\Users\\navs9\\AppData\\Roaming\\nltk_data...\n",
      "[nltk_data]   Unzipping corpora\\stopwords.zip.\n",
      "[nltk_data] Downloading package wordnet to\n",
      "[nltk_data]     C:\\Users\\navs9\\AppData\\Roaming\\nltk_data...\n"
     ]
    },
    {
     "data": {
      "text/plain": [
       "True"
      ]
     },
     "execution_count": 3,
     "metadata": {},
     "output_type": "execute_result"
    }
   ],
   "source": [
    "import nltk\n",
    "nltk.download('punkt')\n",
    "nltk.download('stopwords')\n",
    "nltk.download('wordnet')"
   ]
  },
  {
   "cell_type": "code",
   "execution_count": 1,
   "id": "d3d90a77",
   "metadata": {},
   "outputs": [],
   "source": [
    "import nltk\n",
    "from nltk.tokenize import word_tokenize, sent_tokenize\n",
    "from nltk.corpus import stopwords\n",
    "from nltk.stem import PorterStemmer, WordNetLemmatizer"
   ]
  },
  {
   "cell_type": "code",
   "execution_count": 3,
   "id": "1f8d5bd8",
   "metadata": {},
   "outputs": [],
   "source": [
    "text = \"\"\"For decades the All-India Congress under the leadership of Mohandas K. \n",
    "Gandhi struggled to rally the millions of British-ruled peoples in the Indian subcontinent. Like \n",
    "similar movements in other countries, it early felt the need for a distinctive symbol that could \n",
    "represent  its  nationalist  objectives.  In  1921  a  university  lecturer  named  Pingali  (or  Pinglay) \n",
    "Venkayya presented a flag design to Gandhi that consisted of the colours associated with the \n",
    "two  principal  religions,  red  for  the  Hindus  and  green  for  the  Muslims.  To  the  centre  of  the \n",
    "horizontally  divided  flag,  Lala  Hans  Raj  Sondhi  suggested  the  addition  of  the  traditional \n",
    "spinning wheel, which was associated with Gandhi’s crusade to make Indians self-reliant by \n",
    "fabricating their own clothing from local fibres.       \n",
    "Gandhi modified the flag by adding a white stripe in the centre for the other religious \n",
    "communities in India, thus also providing a clearly visible background for the spinning wheel. \n",
    "In May 1923 at Nagpur, during peaceful protests against British rule, the flag was carried by \n",
    "thousands of people, hundreds of whom were arrested. The Congress flag came to be associated \n",
    "with nationhood for India, and it was officially recognized at the annual meeting of the party \n",
    "in August 1931. At the same time, the current arrangement of stripes and the use of deep saffron \n",
    "instead of red were approved. To avoid the sectarian associations of the original proposal, new \n",
    "attributions were associated with the saffron, white, and green stripes. They were said to stand \n",
    "for, respectively, courage and sacrifice, peace and truth, and faith and chivalry. During World \n",
    "War  II Subhas  Chandra  Bose used  this  flag  (without  the  spinning  wheel)  in  territories  his \n",
    "Japanese-aided army had captured.\"\"\""
   ]
  },
  {
   "cell_type": "code",
   "execution_count": 4,
   "id": "e86d00dc",
   "metadata": {},
   "outputs": [],
   "source": [
    "# Tokenize sentences\n",
    "sentences = sent_tokenize(text)"
   ]
  },
  {
   "cell_type": "code",
   "execution_count": 10,
   "id": "c5dfce57",
   "metadata": {},
   "outputs": [
    {
     "name": "stdout",
     "output_type": "stream",
     "text": [
      "['For decades the All-India Congress under the leadership of Mohandas K. \\nGandhi struggled to rally the millions of British-ruled peoples in the Indian subcontinent.', 'Like \\nsimilar movements in other countries, it early felt the need for a distinctive symbol that could \\nrepresent  its  nationalist  objectives.', 'In  1921  a  university  lecturer  named  Pingali  (or  Pinglay) \\nVenkayya presented a flag design to Gandhi that consisted of the colours associated with the \\ntwo  principal  religions,  red  for  the  Hindus  and  green  for  the  Muslims.', 'To  the  centre  of  the \\nhorizontally  divided  flag,  Lala  Hans  Raj  Sondhi  suggested  the  addition  of  the  traditional \\nspinning wheel, which was associated with Gandhi’s crusade to make Indians self-reliant by \\nfabricating their own clothing from local fibres.', 'Gandhi modified the flag by adding a white stripe in the centre for the other religious \\ncommunities in India, thus also providing a clearly visible background for the spinning wheel.', 'In May 1923 at Nagpur, during peaceful protests against British rule, the flag was carried by \\nthousands of people, hundreds of whom were arrested.', 'The Congress flag came to be associated \\nwith nationhood for India, and it was officially recognized at the annual meeting of the party \\nin August 1931.', 'At the same time, the current arrangement of stripes and the use of deep saffron \\ninstead of red were approved.', 'To avoid the sectarian associations of the original proposal, new \\nattributions were associated with the saffron, white, and green stripes.', 'They were said to stand \\nfor, respectively, courage and sacrifice, peace and truth, and faith and chivalry.', 'During World \\nWar  II Subhas  Chandra  Bose used  this  flag  (without  the  spinning  wheel)  in  territories  his \\nJapanese-aided army had captured.']\n"
     ]
    }
   ],
   "source": [
    "print(sentences)"
   ]
  },
  {
   "cell_type": "code",
   "execution_count": 11,
   "id": "306d60a6",
   "metadata": {},
   "outputs": [],
   "source": [
    "# Tokenize words in each sentence\n",
    "words = [word_tokenize(sentence) for sentence in sentences]"
   ]
  },
  {
   "cell_type": "code",
   "execution_count": 12,
   "id": "d9833e46",
   "metadata": {},
   "outputs": [
    {
     "name": "stdout",
     "output_type": "stream",
     "text": [
      "[['For', 'decades', 'the', 'All-India', 'Congress', 'under', 'the', 'leadership', 'of', 'Mohandas', 'K.', 'Gandhi', 'struggled', 'to', 'rally', 'the', 'millions', 'of', 'British-ruled', 'peoples', 'in', 'the', 'Indian', 'subcontinent', '.'], ['Like', 'similar', 'movements', 'in', 'other', 'countries', ',', 'it', 'early', 'felt', 'the', 'need', 'for', 'a', 'distinctive', 'symbol', 'that', 'could', 'represent', 'its', 'nationalist', 'objectives', '.'], ['In', '1921', 'a', 'university', 'lecturer', 'named', 'Pingali', '(', 'or', 'Pinglay', ')', 'Venkayya', 'presented', 'a', 'flag', 'design', 'to', 'Gandhi', 'that', 'consisted', 'of', 'the', 'colours', 'associated', 'with', 'the', 'two', 'principal', 'religions', ',', 'red', 'for', 'the', 'Hindus', 'and', 'green', 'for', 'the', 'Muslims', '.'], ['To', 'the', 'centre', 'of', 'the', 'horizontally', 'divided', 'flag', ',', 'Lala', 'Hans', 'Raj', 'Sondhi', 'suggested', 'the', 'addition', 'of', 'the', 'traditional', 'spinning', 'wheel', ',', 'which', 'was', 'associated', 'with', 'Gandhi', '’', 's', 'crusade', 'to', 'make', 'Indians', 'self-reliant', 'by', 'fabricating', 'their', 'own', 'clothing', 'from', 'local', 'fibres', '.'], ['Gandhi', 'modified', 'the', 'flag', 'by', 'adding', 'a', 'white', 'stripe', 'in', 'the', 'centre', 'for', 'the', 'other', 'religious', 'communities', 'in', 'India', ',', 'thus', 'also', 'providing', 'a', 'clearly', 'visible', 'background', 'for', 'the', 'spinning', 'wheel', '.'], ['In', 'May', '1923', 'at', 'Nagpur', ',', 'during', 'peaceful', 'protests', 'against', 'British', 'rule', ',', 'the', 'flag', 'was', 'carried', 'by', 'thousands', 'of', 'people', ',', 'hundreds', 'of', 'whom', 'were', 'arrested', '.'], ['The', 'Congress', 'flag', 'came', 'to', 'be', 'associated', 'with', 'nationhood', 'for', 'India', ',', 'and', 'it', 'was', 'officially', 'recognized', 'at', 'the', 'annual', 'meeting', 'of', 'the', 'party', 'in', 'August', '1931', '.'], ['At', 'the', 'same', 'time', ',', 'the', 'current', 'arrangement', 'of', 'stripes', 'and', 'the', 'use', 'of', 'deep', 'saffron', 'instead', 'of', 'red', 'were', 'approved', '.'], ['To', 'avoid', 'the', 'sectarian', 'associations', 'of', 'the', 'original', 'proposal', ',', 'new', 'attributions', 'were', 'associated', 'with', 'the', 'saffron', ',', 'white', ',', 'and', 'green', 'stripes', '.'], ['They', 'were', 'said', 'to', 'stand', 'for', ',', 'respectively', ',', 'courage', 'and', 'sacrifice', ',', 'peace', 'and', 'truth', ',', 'and', 'faith', 'and', 'chivalry', '.'], ['During', 'World', 'War', 'II', 'Subhas', 'Chandra', 'Bose', 'used', 'this', 'flag', '(', 'without', 'the', 'spinning', 'wheel', ')', 'in', 'territories', 'his', 'Japanese-aided', 'army', 'had', 'captured', '.']]\n"
     ]
    }
   ],
   "source": [
    "print(words)"
   ]
  },
  {
   "cell_type": "code",
   "execution_count": 18,
   "id": "87e9c2f2",
   "metadata": {},
   "outputs": [],
   "source": [
    "# Create stop words set\n",
    "stop_words = list(stopwords.words(\"english\"))"
   ]
  },
  {
   "cell_type": "code",
   "execution_count": 19,
   "id": "49641647",
   "metadata": {},
   "outputs": [
    {
     "name": "stdout",
     "output_type": "stream",
     "text": [
      "['i', 'me', 'my', 'myself', 'we', 'our', 'ours', 'ourselves', 'you', \"you're\", \"you've\", \"you'll\", \"you'd\", 'your', 'yours', 'yourself', 'yourselves', 'he', 'him', 'his', 'himself', 'she', \"she's\", 'her', 'hers', 'herself', 'it', \"it's\", 'its', 'itself', 'they', 'them', 'their', 'theirs', 'themselves', 'what', 'which', 'who', 'whom', 'this', 'that', \"that'll\", 'these', 'those', 'am', 'is', 'are', 'was', 'were', 'be', 'been', 'being', 'have', 'has', 'had', 'having', 'do', 'does', 'did', 'doing', 'a', 'an', 'the', 'and', 'but', 'if', 'or', 'because', 'as', 'until', 'while', 'of', 'at', 'by', 'for', 'with', 'about', 'against', 'between', 'into', 'through', 'during', 'before', 'after', 'above', 'below', 'to', 'from', 'up', 'down', 'in', 'out', 'on', 'off', 'over', 'under', 'again', 'further', 'then', 'once', 'here', 'there', 'when', 'where', 'why', 'how', 'all', 'any', 'both', 'each', 'few', 'more', 'most', 'other', 'some', 'such', 'no', 'nor', 'not', 'only', 'own', 'same', 'so', 'than', 'too', 'very', 's', 't', 'can', 'will', 'just', 'don', \"don't\", 'should', \"should've\", 'now', 'd', 'll', 'm', 'o', 're', 've', 'y', 'ain', 'aren', \"aren't\", 'couldn', \"couldn't\", 'didn', \"didn't\", 'doesn', \"doesn't\", 'hadn', \"hadn't\", 'hasn', \"hasn't\", 'haven', \"haven't\", 'isn', \"isn't\", 'ma', 'mightn', \"mightn't\", 'mustn', \"mustn't\", 'needn', \"needn't\", 'shan', \"shan't\", 'shouldn', \"shouldn't\", 'wasn', \"wasn't\", 'weren', \"weren't\", 'won', \"won't\", 'wouldn', \"wouldn't\"]\n"
     ]
    }
   ],
   "source": [
    "print(stop_words)"
   ]
  },
  {
   "cell_type": "code",
   "execution_count": 21,
   "id": "ed8fecab",
   "metadata": {},
   "outputs": [],
   "source": [
    "# Filter out stop words\n",
    "filtered_words = [word for word in words if word not in stop_words]"
   ]
  },
  {
   "cell_type": "code",
   "execution_count": 22,
   "id": "ac00aac5",
   "metadata": {},
   "outputs": [
    {
     "name": "stdout",
     "output_type": "stream",
     "text": [
      "[['For', 'decades', 'the', 'All-India', 'Congress', 'under', 'the', 'leadership', 'of', 'Mohandas', 'K.', 'Gandhi', 'struggled', 'to', 'rally', 'the', 'millions', 'of', 'British-ruled', 'peoples', 'in', 'the', 'Indian', 'subcontinent', '.'], ['Like', 'similar', 'movements', 'in', 'other', 'countries', ',', 'it', 'early', 'felt', 'the', 'need', 'for', 'a', 'distinctive', 'symbol', 'that', 'could', 'represent', 'its', 'nationalist', 'objectives', '.'], ['In', '1921', 'a', 'university', 'lecturer', 'named', 'Pingali', '(', 'or', 'Pinglay', ')', 'Venkayya', 'presented', 'a', 'flag', 'design', 'to', 'Gandhi', 'that', 'consisted', 'of', 'the', 'colours', 'associated', 'with', 'the', 'two', 'principal', 'religions', ',', 'red', 'for', 'the', 'Hindus', 'and', 'green', 'for', 'the', 'Muslims', '.'], ['To', 'the', 'centre', 'of', 'the', 'horizontally', 'divided', 'flag', ',', 'Lala', 'Hans', 'Raj', 'Sondhi', 'suggested', 'the', 'addition', 'of', 'the', 'traditional', 'spinning', 'wheel', ',', 'which', 'was', 'associated', 'with', 'Gandhi', '’', 's', 'crusade', 'to', 'make', 'Indians', 'self-reliant', 'by', 'fabricating', 'their', 'own', 'clothing', 'from', 'local', 'fibres', '.'], ['Gandhi', 'modified', 'the', 'flag', 'by', 'adding', 'a', 'white', 'stripe', 'in', 'the', 'centre', 'for', 'the', 'other', 'religious', 'communities', 'in', 'India', ',', 'thus', 'also', 'providing', 'a', 'clearly', 'visible', 'background', 'for', 'the', 'spinning', 'wheel', '.'], ['In', 'May', '1923', 'at', 'Nagpur', ',', 'during', 'peaceful', 'protests', 'against', 'British', 'rule', ',', 'the', 'flag', 'was', 'carried', 'by', 'thousands', 'of', 'people', ',', 'hundreds', 'of', 'whom', 'were', 'arrested', '.'], ['The', 'Congress', 'flag', 'came', 'to', 'be', 'associated', 'with', 'nationhood', 'for', 'India', ',', 'and', 'it', 'was', 'officially', 'recognized', 'at', 'the', 'annual', 'meeting', 'of', 'the', 'party', 'in', 'August', '1931', '.'], ['At', 'the', 'same', 'time', ',', 'the', 'current', 'arrangement', 'of', 'stripes', 'and', 'the', 'use', 'of', 'deep', 'saffron', 'instead', 'of', 'red', 'were', 'approved', '.'], ['To', 'avoid', 'the', 'sectarian', 'associations', 'of', 'the', 'original', 'proposal', ',', 'new', 'attributions', 'were', 'associated', 'with', 'the', 'saffron', ',', 'white', ',', 'and', 'green', 'stripes', '.'], ['They', 'were', 'said', 'to', 'stand', 'for', ',', 'respectively', ',', 'courage', 'and', 'sacrifice', ',', 'peace', 'and', 'truth', ',', 'and', 'faith', 'and', 'chivalry', '.'], ['During', 'World', 'War', 'II', 'Subhas', 'Chandra', 'Bose', 'used', 'this', 'flag', '(', 'without', 'the', 'spinning', 'wheel', ')', 'in', 'territories', 'his', 'Japanese-aided', 'army', 'had', 'captured', '.']]\n"
     ]
    }
   ],
   "source": [
    "# Print filtered words\n",
    "print(filtered_words)"
   ]
  },
  {
   "cell_type": "code",
   "execution_count": 25,
   "id": "a3c31496",
   "metadata": {},
   "outputs": [
    {
     "name": "stdout",
     "output_type": "stream",
     "text": [
      "For decades the All-India Congress under the leadership of Mohandas K. Gandhi struggled to rally the millions of British-ruled peoples in the Indian subcontinent . Like similar movements in other countries , it early felt the need for a distinctive symbol that could represent its nationalist objectives . In 1921 a university lecturer named Pingali ( or Pinglay ) Venkayya presented a flag design to Gandhi that consisted of the colours associated with the two principal religions , red for the Hindus and green for the Muslims . To the centre of the horizontally divided flag , Lala Hans Raj Sondhi suggested the addition of the traditional spinning wheel , which was associated with Gandhi ’ s crusade to make Indians self-reliant by fabricating their own clothing from local fibres . Gandhi modified the flag by adding a white stripe in the centre for the other religious communities in India , thus also providing a clearly visible background for the spinning wheel . In May 1923 at Nagpur , during peaceful protests against British rule , the flag was carried by thousands of people , hundreds of whom were arrested . The Congress flag came to be associated with nationhood for India , and it was officially recognized at the annual meeting of the party in August 1931 . At the same time , the current arrangement of stripes and the use of deep saffron instead of red were approved . To avoid the sectarian associations of the original proposal , new attributions were associated with the saffron , white , and green stripes . They were said to stand for , respectively , courage and sacrifice , peace and truth , and faith and chivalry . During World War II Subhas Chandra Bose used this flag ( without the spinning wheel ) in territories his Japanese-aided army had captured .\n"
     ]
    }
   ],
   "source": [
    "# Join filtered words into a string\n",
    "combined_paragraph = ' '.join([' '.join(sentence) for sentence in filtered_words])\n",
    "\n",
    "# Print the combined paragraph\n",
    "print(combined_paragraph)"
   ]
  },
  {
   "cell_type": "code",
   "execution_count": 7,
   "id": "6427f24e",
   "metadata": {},
   "outputs": [],
   "source": [
    "# Initialize stemmer and lemmatizer\n",
    "stemmer = PorterStemmer()\n",
    "lemmatizer = WordNetLemmatizer()"
   ]
  },
  {
   "cell_type": "code",
   "execution_count": 8,
   "id": "83839878",
   "metadata": {},
   "outputs": [],
   "source": [
    "# Process words\n",
    "processed_words = []\n",
    "for sentence_words in words:\n",
    "    filtered_words = [word for word in sentence_words if word.lower() not in stop_words]\n",
    "    stemmed_words = [stemmer.stem(word) for word in filtered_words]\n",
    "    lemmatized_words = [lemmatizer.lemmatize(word) for word in stemmed_words]\n",
    "    processed_words.append(lemmatized_words)"
   ]
  },
  {
   "cell_type": "code",
   "execution_count": 9,
   "id": "f55d9c8c",
   "metadata": {},
   "outputs": [
    {
     "name": "stdout",
     "output_type": "stream",
     "text": [
      "Sentence 1:\n",
      "['decad', 'all-india', 'congress', 'leadership', 'mohanda', 'k.', 'gandhi', 'struggl', 'ralli', 'million', 'british-rul', 'peopl', 'indian', 'subcontin', '.']\n",
      "\n",
      "Sentence 2:\n",
      "['like', 'similar', 'movement', 'countri', ',', 'earli', 'felt', 'need', 'distinct', 'symbol', 'could', 'repres', 'nationalist', 'object', '.']\n",
      "\n",
      "Sentence 3:\n",
      "['1921', 'univers', 'lectur', 'name', 'pingali', '(', 'pinglay', ')', 'venkayya', 'present', 'flag', 'design', 'gandhi', 'consist', 'colour', 'associ', 'two', 'princip', 'religion', ',', 'red', 'hindu', 'green', 'muslim', '.']\n",
      "\n",
      "Sentence 4:\n",
      "['centr', 'horizont', 'divid', 'flag', ',', 'lala', 'han', 'raj', 'sondhi', 'suggest', 'addit', 'tradit', 'spin', 'wheel', ',', 'associ', 'gandhi', '’', 'crusad', 'make', 'indian', 'self-reli', 'fabric', 'cloth', 'local', 'fibr', '.']\n",
      "\n",
      "Sentence 5:\n",
      "['gandhi', 'modifi', 'flag', 'ad', 'white', 'stripe', 'centr', 'religi', 'commun', 'india', ',', 'thu', 'also', 'provid', 'clearli', 'visibl', 'background', 'spin', 'wheel', '.']\n",
      "\n",
      "Sentence 6:\n",
      "['may', '1923', 'nagpur', ',', 'peac', 'protest', 'british', 'rule', ',', 'flag', 'carri', 'thousand', 'peopl', ',', 'hundr', 'arrest', '.']\n",
      "\n",
      "Sentence 7:\n",
      "['congress', 'flag', 'came', 'associ', 'nationhood', 'india', ',', 'offici', 'recogn', 'annual', 'meet', 'parti', 'august', '1931', '.']\n",
      "\n",
      "Sentence 8:\n",
      "['time', ',', 'current', 'arrang', 'stripe', 'use', 'deep', 'saffron', 'instead', 'red', 'approv', '.']\n",
      "\n",
      "Sentence 9:\n",
      "['avoid', 'sectarian', 'associ', 'origin', 'propos', ',', 'new', 'attribut', 'associ', 'saffron', ',', 'white', ',', 'green', 'stripe', '.']\n",
      "\n",
      "Sentence 10:\n",
      "['said', 'stand', ',', 'respect', ',', 'courag', 'sacrific', ',', 'peac', 'truth', ',', 'faith', 'chivalri', '.']\n",
      "\n",
      "Sentence 11:\n",
      "['world', 'war', 'ii', 'subha', 'chandra', 'bose', 'use', 'flag', '(', 'without', 'spin', 'wheel', ')', 'territori', 'japanese-aid', 'armi', 'captur', '.']\n",
      "\n"
     ]
    }
   ],
   "source": [
    "# Printing processed words\n",
    "for i, sentence_words in enumerate(processed_words):\n",
    "    print(f\"Sentence {i+1}:\")\n",
    "    print(sentence_words)\n",
    "    print()"
   ]
  },
  {
   "cell_type": "code",
   "execution_count": null,
   "id": "555170e9",
   "metadata": {},
   "outputs": [],
   "source": [
    "#--The End--"
   ]
  }
 ],
 "metadata": {
  "kernelspec": {
   "display_name": "Python 3 (ipykernel)",
   "language": "python",
   "name": "python3"
  },
  "language_info": {
   "codemirror_mode": {
    "name": "ipython",
    "version": 3
   },
   "file_extension": ".py",
   "mimetype": "text/x-python",
   "name": "python",
   "nbconvert_exporter": "python",
   "pygments_lexer": "ipython3",
   "version": "3.11.1"
  }
 },
 "nbformat": 4,
 "nbformat_minor": 5
}
