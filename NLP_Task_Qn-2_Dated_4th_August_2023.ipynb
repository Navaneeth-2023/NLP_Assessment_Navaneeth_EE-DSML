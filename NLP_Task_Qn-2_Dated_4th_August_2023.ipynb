{
 "cells": [
  {
   "cell_type": "code",
   "execution_count": 1,
   "id": "2f76a0ad",
   "metadata": {},
   "outputs": [],
   "source": [
    "from sklearn.feature_extraction.text import CountVectorizer\n",
    "\n",
    "# Given paragraph\n",
    "paragraph = \"Construction of the mausoleum was essentially completed in 1643. but work continued on other phases of the project for another 10 years. The Taj Mahal complex is believed to have been completed in its entirety in 1653 at a cost estimated at the time to be around 32 million. The construction project employed some 20,000 artisans under the guidance of a board of architects led by the court architect to the emperor, Ustad Ahmad Lahauri. Various types of symbolism have been employed in the Taj to reflect natural beauty and divinity.\"\n",
    "\n",
    "# Spliting the paragraph into sentences\n",
    "sentences = paragraph.split('. ')\n",
    "\n",
    "# Initializing the CountVectorizer\n",
    "vectorizer = CountVectorizer()\n",
    "\n",
    "# Applying bag-of-words and transform sentences to bag-of-vectors\n",
    "bag_of_vectors = vectorizer.fit_transform(sentences)\n",
    "\n",
    "# Converting the bag-of-vectors to an array for easier printing\n",
    "bag_of_vectors_array = bag_of_vectors.toarray()"
   ]
  },
  {
   "cell_type": "code",
   "execution_count": 2,
   "id": "6cfdefc7",
   "metadata": {},
   "outputs": [
    {
     "name": "stdout",
     "output_type": "stream",
     "text": [
      "Sentence 1: Construction of the mausoleum was essentially completed in 1643\n",
      "Bag-of-vectors: [0 0 1 0 0 0 0 0 0 0 0 0 0 0 0 0 0 0 0 0 0 1 0 1 0 0 0 0 0 0 0 1 0 0 0 0 1\n",
      " 0 0 0 0 0 1 0 0 1 0 0 0 0 0 0 0 0 1 0 0 0 0 0 0 1 0 0]\n",
      "\n",
      "Sentence 2: but work continued on other phases of the project for another 10 years\n",
      "Bag-of-vectors: [0 1 0 0 0 0 0 0 1 0 0 0 0 0 0 0 0 0 0 1 0 0 0 0 1 0 0 0 0 0 0 0 0 1 0 0 0\n",
      " 0 0 0 0 0 0 0 0 1 1 1 1 1 0 0 0 0 1 0 0 0 0 0 0 0 1 1]\n",
      "\n",
      "Sentence 3: The Taj Mahal complex is believed to have been completed in its entirety in 1653 at a cost estimated at the time to be around 32 million\n",
      "Bag-of-vectors: [0 0 0 1 0 1 0 0 0 0 0 1 0 2 1 0 1 1 0 0 0 1 1 0 0 1 0 0 0 0 1 0 1 0 0 1 2\n",
      " 1 1 0 0 1 0 1 0 0 0 0 0 0 0 0 0 1 2 1 2 0 0 0 0 0 0 0]\n",
      "\n",
      "Sentence 4: The construction project employed some 20,000 artisans under the guidance of a board of architects led by the court architect to the emperor, Ustad Ahmad Lahauri\n",
      "Bag-of-vectors: [1 0 0 0 1 0 1 0 0 1 1 0 1 0 0 0 0 0 1 0 1 0 0 1 0 0 1 0 1 1 0 0 0 0 1 0 0\n",
      " 0 0 1 1 0 0 0 0 2 0 0 0 1 0 1 0 0 4 0 1 0 1 1 0 0 0 0]\n",
      "\n",
      "Sentence 5: Various types of symbolism have been employed in the Taj to reflect natural beauty and divinity.\n",
      "Bag-of-vectors: [0 0 0 0 0 0 0 1 0 0 0 0 0 0 0 1 1 0 0 0 0 0 0 0 0 0 0 1 0 1 0 0 0 0 0 1 1\n",
      " 0 0 0 0 0 0 0 1 1 0 0 0 0 1 0 1 1 1 0 1 1 0 0 1 0 0 0]\n",
      "\n"
     ]
    }
   ],
   "source": [
    "# Print bag-of-vectors for each sentence\n",
    "for i, sentence in enumerate(sentences):\n",
    "    print(f\"Sentence {i + 1}: {sentence}\")\n",
    "    print(f\"Bag-of-vectors: {bag_of_vectors_array[i]}\")\n",
    "    print()"
   ]
  },
  {
   "cell_type": "code",
   "execution_count": null,
   "id": "ae2b4684",
   "metadata": {},
   "outputs": [],
   "source": []
  }
 ],
 "metadata": {
  "kernelspec": {
   "display_name": "Python 3 (ipykernel)",
   "language": "python",
   "name": "python3"
  },
  "language_info": {
   "codemirror_mode": {
    "name": "ipython",
    "version": 3
   },
   "file_extension": ".py",
   "mimetype": "text/x-python",
   "name": "python",
   "nbconvert_exporter": "python",
   "pygments_lexer": "ipython3",
   "version": "3.11.1"
  }
 },
 "nbformat": 4,
 "nbformat_minor": 5
}
