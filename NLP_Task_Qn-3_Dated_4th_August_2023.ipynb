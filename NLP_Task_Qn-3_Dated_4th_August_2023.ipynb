{
 "cells": [
  {
   "cell_type": "code",
   "execution_count": 1,
   "id": "0f889eb2",
   "metadata": {},
   "outputs": [],
   "source": [
    "from sklearn.feature_extraction.text import TfidfVectorizer\n",
    "\n",
    "# Given paragraph\n",
    "paragraph = \"Referred to as the Venice of the East, Alappuzha has always enjoyed an important place in the maritime history of Kerala. Today, it is famous for its boat races, backwater holidays, beaches, marine products and coir industry. Alappuzha Beach is a popular picnic spot.\"\n",
    "\n",
    "# Split the paragraph into sentences\n",
    "sentences = paragraph.split('. ')\n",
    "\n",
    "# Initialize the TfidfVectorizer\n",
    "vectorizer = TfidfVectorizer()\n",
    "\n",
    "# Apply TF-IDF and transform sentences to feature vectors\n",
    "feature_vectors = vectorizer.fit_transform(sentences)\n",
    "\n",
    "# Convert the feature vectors to an array for easier printing\n",
    "feature_vectors_array = feature_vectors.toarray()"
   ]
  },
  {
   "cell_type": "code",
   "execution_count": 2,
   "id": "0b33d09a",
   "metadata": {},
   "outputs": [
    {
     "name": "stdout",
     "output_type": "stream",
     "text": [
      "Sentence 1: Referred to as the Venice of the East, Alappuzha has always enjoyed an important place in the maritime history of Kerala\n",
      "Feature Vector: [0.14226399 0.18706005 0.18706005 0.         0.18706005 0.\n",
      " 0.         0.         0.         0.         0.18706005 0.18706005\n",
      " 0.         0.         0.18706005 0.18706005 0.         0.18706005\n",
      " 0.18706005 0.         0.         0.         0.         0.18706005\n",
      " 0.         0.18706005 0.3741201  0.         0.18706005 0.\n",
      " 0.         0.         0.18706005 0.         0.56118015 0.18706005\n",
      " 0.         0.18706005]\n",
      "\n",
      "Sentence 2: Today, it is famous for its boat races, backwater holidays, beaches, marine products and coir industry\n",
      "Feature Vector: [0.         0.         0.         0.25336031 0.         0.25336031\n",
      " 0.         0.25336031 0.25336031 0.25336031 0.         0.\n",
      " 0.25336031 0.25336031 0.         0.         0.25336031 0.\n",
      " 0.         0.25336031 0.19268705 0.25336031 0.25336031 0.\n",
      " 0.25336031 0.         0.         0.         0.         0.\n",
      " 0.25336031 0.25336031 0.         0.         0.         0.\n",
      " 0.25336031 0.        ]\n",
      "\n",
      "Sentence 3: Alappuzha Beach is a popular picnic spot.\n",
      "Feature Vector: [0.3349067  0.         0.         0.         0.         0.\n",
      " 0.44036207 0.         0.         0.         0.         0.\n",
      " 0.         0.         0.         0.         0.         0.\n",
      " 0.         0.         0.3349067  0.         0.         0.\n",
      " 0.         0.         0.         0.44036207 0.         0.44036207\n",
      " 0.         0.         0.         0.44036207 0.         0.\n",
      " 0.         0.        ]\n",
      "\n"
     ]
    }
   ],
   "source": [
    "# Print feature vector for each sentence\n",
    "for i, sentence in enumerate(sentences):\n",
    "    print(f\"Sentence {i + 1}: {sentence}\")\n",
    "    print(f\"Feature Vector: {feature_vectors_array[i]}\")\n",
    "    print()"
   ]
  },
  {
   "cell_type": "code",
   "execution_count": null,
   "id": "f4f071ba",
   "metadata": {},
   "outputs": [],
   "source": [
    "#--The End--"
   ]
  }
 ],
 "metadata": {
  "kernelspec": {
   "display_name": "Python 3 (ipykernel)",
   "language": "python",
   "name": "python3"
  },
  "language_info": {
   "codemirror_mode": {
    "name": "ipython",
    "version": 3
   },
   "file_extension": ".py",
   "mimetype": "text/x-python",
   "name": "python",
   "nbconvert_exporter": "python",
   "pygments_lexer": "ipython3",
   "version": "3.11.1"
  }
 },
 "nbformat": 4,
 "nbformat_minor": 5
}
